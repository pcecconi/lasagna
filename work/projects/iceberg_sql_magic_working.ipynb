{
 "cells": [
  {
   "cell_type": "markdown",
   "metadata": {},
   "source": [
    "# Working Iceberg SQL Magic Example\n",
    "\n",
    "This notebook demonstrates how to use **%sparksql** magic with Iceberg tables in your LASAGNA setup.\n",
    "\n",
    "## ✅ What Works:\n",
    "- **%sparksql** magic with Iceberg tables\n",
    "- Interactive table outputs\n",
    "- Complex SQL queries\n",
    "- Cross-database queries\n",
    "\n",
    "## ❌ What Doesn't Work:\n",
    "- DataFrame API with `spark.read.format(\"iceberg\")` (due to metadata issues)\n",
    "- Direct file path access to Iceberg tables\n"
   ]
  },
  {
   "cell_type": "markdown",
   "metadata": {},
   "source": [
    "## 1. Create Spark Session with Iceberg Support\n"
   ]
  },
  {
   "cell_type": "markdown",
   "metadata": {},
   "source": [
    "## 2. Run Ingestion Script (Optional)\n"
   ]
  },
  {
   "cell_type": "code",
   "execution_count": null,
   "metadata": {},
   "outputs": [],
   "source": [
    "# Run the ingestion script to create tables and data\n",
    "# This is optional - tables may already exist from previous runs\n",
    "import subprocess\n",
    "import sys\n",
    "\n",
    "try:\n",
    "    result = subprocess.run([\n",
    "        sys.executable, \n",
    "        \"/usr/local/spark_dev/work/payments_pipeline_ingestion/src/payments_pipeline/bronze/ingestion.py\"\n",
    "    ], capture_output=True, text=True, cwd=\"/usr/local/spark_dev/work\")\n",
    "    \n",
    "    if result.returncode == 0:\n",
    "        print(\"✅ Ingestion script completed successfully\")\n",
    "        print(\"Tables and data are ready for SQL magic queries\")\n",
    "    else:\n",
    "        print(\"⚠️  Ingestion script had issues, but tables might already exist\")\n",
    "        print(\"Proceeding with existing tables...\")\n",
    "        \n",
    "except Exception as e:\n",
    "    print(f\"⚠️  Could not run ingestion script: {e}\")\n",
    "    print(\"Proceeding with existing tables...\")\n"
   ]
  },
  {
   "cell_type": "code",
   "execution_count": 4,
   "metadata": {},
   "outputs": [
    {
     "name": "stderr",
     "output_type": "stream",
     "text": [
      "25/09/29 16:41:51 WARN Utils: Service 'SparkUI' could not bind on port 4040. Attempting port 4041.\n",
      "25/09/29 16:41:52 WARN Utils: spark.executor.instances less than spark.dynamicAllocation.minExecutors is invalid, ignoring its setting, please update your configs.\n"
     ]
    },
    {
     "name": "stdout",
     "output_type": "stream",
     "text": [
      "✅ Spark session created with Iceberg support\n"
     ]
    }
   ],
   "source": [
    "from pyspark.sql import SparkSession\n",
    "\n",
    "# Stop any existing session\n",
    "try:\n",
    "    spark.stop()\n",
    "except:\n",
    "    pass\n",
    "\n",
    "# Create Spark session with Iceberg support\n",
    "spark = SparkSession.builder \\\n",
    "    .appName(\"LASAGNA-Iceberg-SQL\") \\\n",
    "    .config(\"spark.jars.packages\", \"org.apache.iceberg:iceberg-spark-runtime-3.4_2.12:1.4.2\") \\\n",
    "    .config(\"spark.sql.extensions\", \"org.apache.iceberg.spark.extensions.IcebergSparkSessionExtensions\") \\\n",
    "    .config(\"spark.sql.catalog.spark_catalog\", \"org.apache.iceberg.spark.SparkCatalog\") \\\n",
    "    .config(\"spark.hadoop.fs.s3a.impl\", \"org.apache.hadoop.fs.s3a.S3AFileSystem\") \\\n",
    "    .config(\"spark.hadoop.fs.s3a.endpoint\", \"http://minio:9000\") \\\n",
    "    .config(\"spark.hadoop.fs.s3a.path.style.access\", \"true\") \\\n",
    "    .config(\"spark.hadoop.fs.s3a.connection.ssl.enabled\", \"false\") \\\n",
    "    .config(\"spark.hadoop.fs.s3a.access.key\", \"admin\") \\\n",
    "    .config(\"spark.hadoop.fs.s3a.secret.key\", \"password\") \\\n",
    "    .getOrCreate()\n",
    "\n",
    "print(\"✅ Spark session created with Iceberg support\")\n"
   ]
  },
  {
   "cell_type": "markdown",
   "metadata": {},
   "source": [
    "## 3. Basic Iceberg Table Queries\n"
   ]
  },
  {
   "cell_type": "code",
   "execution_count": 5,
   "metadata": {},
   "outputs": [
    {
     "name": "stderr",
     "output_type": "stream",
     "text": [
      "[Stage 3:>                                                          (0 + 2) / 2]"
     ]
    },
    {
     "name": "stdout",
     "output_type": "stream",
     "text": [
      "Execution time: 5.00 seconds\n"
     ]
    },
    {
     "name": "stderr",
     "output_type": "stream",
     "text": [
      "                                                                                "
     ]
    },
    {
     "data": {
      "application/vnd.jupyter.widget-view+json": {
       "model_id": "e873bd36b98f418397aa2585830122fe",
       "version_major": 2,
       "version_minor": 0
      },
      "text/plain": [
       "SparkSchemaWidget(nodes=(Node(close_icon='angle-down', close_icon_style='danger', icon='project-diagram', icon…"
      ]
     },
     "metadata": {},
     "output_type": "display_data"
    },
    {
     "data": {
      "text/html": [
       "<a class=\"external\" href=\"http://4dfa796b94ef:4041\" target=\"_blank\" >Open Spark UI ⭐ LASAGNA-Iceberg-SQL</a>"
      ],
      "text/plain": [
       "<IPython.core.display.HTML object>"
      ]
     },
     "metadata": {},
     "output_type": "display_data"
    },
    {
     "data": {
      "text/html": [
       "<table><table border='1' class='mathjax_ignore'>\n",
       "<tr><th>total_merchants</th></tr>\n",
       "<tr><td>1000</td></tr>\n",
       "</table>\n",
       "</table>"
      ],
      "text/plain": [
       "<IPython.core.display.HTML object>"
      ]
     },
     "metadata": {},
     "output_type": "display_data"
    },
    {
     "data": {
      "text/html": [
       "<div class=\"jlse-output\" data-result-id=\"ef6af272c3c9f5081c4202e68b27aa3e46c4a29e24ca97b4a9b7b7e2849f9e13\" style=\"display:none;\"></div>"
      ],
      "text/plain": [
       "<IPython.core.display.HTML object>"
      ]
     },
     "metadata": {},
     "output_type": "display_data"
    }
   ],
   "source": [
    "%%sparksql\n",
    "-- Count records in merchants_raw table\n",
    "SELECT COUNT(*) as total_merchants \n",
    "FROM spark_catalog.payments_bronze.merchants_raw\n"
   ]
  },
  {
   "cell_type": "code",
   "execution_count": 7,
   "metadata": {},
   "outputs": [
    {
     "name": "stdout",
     "output_type": "stream",
     "text": [
      "Execution time: 0.45 seconds\n",
      "Only showing top 20 rows\n"
     ]
    },
    {
     "data": {
      "application/vnd.jupyter.widget-view+json": {
       "model_id": "abbf6e6b9b694603820b906eaa94a25e",
       "version_major": 2,
       "version_minor": 0
      },
      "text/plain": [
       "SparkSchemaWidget(nodes=(Node(close_icon='angle-down', close_icon_style='danger', icon='project-diagram', icon…"
      ]
     },
     "metadata": {},
     "output_type": "display_data"
    },
    {
     "data": {
      "text/html": [
       "<a class=\"external\" href=\"http://4dfa796b94ef:4041\" target=\"_blank\" >Open Spark UI ⭐ LASAGNA-Iceberg-SQL</a>"
      ],
      "text/plain": [
       "<IPython.core.display.HTML object>"
      ]
     },
     "metadata": {},
     "output_type": "display_data"
    },
    {
     "data": {
      "text/html": [
       "<table><table border='1' class='mathjax_ignore'>\n",
       "<tr><th>merchant_id</th><th>merchant_name</th><th>industry</th><th>city</th><th>state</th><th>mdr_rate</th></tr>\n",
       "<tr><td>M000001</td><td>Prime Center 628</td><td>automotive</td><td>Chicago</td><td>IL</td><td>0.0285</td></tr>\n",
       "<tr><td>M000002</td><td>Elite Center 983</td><td>automotive</td><td>New York</td><td>AZ</td><td>0.026</td></tr>\n",
       "<tr><td>M000003</td><td>Prime Center 717</td><td>technology</td><td>Chicago</td><td>AZ</td><td>0.0208</td></tr>\n",
       "<tr><td>M000004</td><td>Best Mart 97</td><td>automotive</td><td>Philadelphia</td><td>AZ</td><td>0.0277</td></tr>\n",
       "<tr><td>M000005</td><td>Prime Plaza 252</td><td>technology</td><td>Phoenix</td><td>AZ</td><td>0.0235</td></tr>\n",
       "<tr><td>M000006</td><td>Super Mart 216</td><td>local_services</td><td>Houston</td><td>PA</td><td>0.0318</td></tr>\n",
       "<tr><td>M000007</td><td>Super Plaza 264</td><td>fitness</td><td>Chicago</td><td>CA</td><td>0.0306</td></tr>\n",
       "<tr><td>M000008</td><td>Prime Store 442</td><td>retail</td><td>Chicago</td><td>TX</td><td>0.0283</td></tr>\n",
       "<tr><td>M000009</td><td>Mega Mart 402</td><td>restaurant</td><td>Chicago</td><td>CA</td><td>0.0307</td></tr>\n",
       "<tr><td>M000010</td><td>Super Center 407</td><td>beauty</td><td>Chicago</td><td>IL</td><td>0.029</td></tr>\n",
       "<tr><td>M000011</td><td>Mega Center 443</td><td>local_services</td><td>Houston</td><td>IL</td><td>0.0304</td></tr>\n",
       "<tr><td>M000012</td><td>Elite Shop 919</td><td>beauty</td><td>Chicago</td><td>CA</td><td>0.0325</td></tr>\n",
       "<tr><td>M000013</td><td>Best Store 307</td><td>fitness</td><td>Houston</td><td>PA</td><td>0.0308</td></tr>\n",
       "<tr><td>M000014</td><td>Mega Shop 966</td><td>fitness</td><td>New York</td><td>NY</td><td>0.0336</td></tr>\n",
       "<tr><td>M000015</td><td>Best Mart 10</td><td>beauty</td><td>Houston</td><td>IL</td><td>0.0312</td></tr>\n",
       "<tr><td>M000016</td><td>Super Store 835</td><td>retail</td><td>Chicago</td><td>NY</td><td>0.033</td></tr>\n",
       "<tr><td>M000017</td><td>Best Center 997</td><td>healthcare</td><td>Houston</td><td>NY</td><td>0.0259</td></tr>\n",
       "<tr><td>M000018</td><td>Super Center 422</td><td>healthcare</td><td>Houston</td><td>IL</td><td>0.0287</td></tr>\n",
       "<tr><td>M000019</td><td>Mega Plaza 218</td><td>education</td><td>Houston</td><td>CA</td><td>0.0251</td></tr>\n",
       "<tr><td>M000020</td><td>Elite Mart 800</td><td>retail</td><td>Phoenix</td><td>CA</td><td>0.0334</td></tr>\n",
       "</table>\n",
       "</table>"
      ],
      "text/plain": [
       "<IPython.core.display.HTML object>"
      ]
     },
     "metadata": {},
     "output_type": "display_data"
    },
    {
     "data": {
      "text/html": [
       "<div class=\"jlse-output\" data-result-id=\"9302a83d92dec464ae58890518c08ec4213c5997c5a4a387c55351964400d0fa\" style=\"display:none;\"></div>"
      ],
      "text/plain": [
       "<IPython.core.display.HTML object>"
      ]
     },
     "metadata": {},
     "output_type": "display_data"
    }
   ],
   "source": [
    "%%sparksql\n",
    "-- Sample data from merchants_raw\n",
    "SELECT \n",
    "    merchant_id,\n",
    "    merchant_name,\n",
    "    industry,\n",
    "    city,\n",
    "    state,\n",
    "    mdr_rate\n",
    "FROM spark_catalog.payments_bronze.merchants_raw \n"
   ]
  },
  {
   "cell_type": "markdown",
   "metadata": {},
   "source": [
    "## 3. Complex Analytics Queries\n"
   ]
  },
  {
   "cell_type": "code",
   "execution_count": 4,
   "metadata": {},
   "outputs": [
    {
     "name": "stdout",
     "output_type": "stream",
     "text": [
      "Execution time: 0.89 seconds\n"
     ]
    },
    {
     "data": {
      "application/vnd.jupyter.widget-view+json": {
       "model_id": "7a178ac028ea4e218d09a2901eaf5f11",
       "version_major": 2,
       "version_minor": 0
      },
      "text/plain": [
       "SparkSchemaWidget(nodes=(Node(close_icon='angle-down', close_icon_style='danger', icon='project-diagram', icon…"
      ]
     },
     "metadata": {},
     "output_type": "display_data"
    },
    {
     "data": {
      "text/html": [
       "<a class=\"external\" href=\"http://4dfa796b94ef:4041\" target=\"_blank\" >Open Spark UI ⭐ LASAGNA-Iceberg-SQL</a>"
      ],
      "text/plain": [
       "<IPython.core.display.HTML object>"
      ]
     },
     "metadata": {},
     "output_type": "display_data"
    },
    {
     "data": {
      "text/html": [
       "<table><table border='1' class='mathjax_ignore'>\n",
       "<tr><th>industry</th><th>merchant_count</th><th>avg_mdr_rate</th><th>min_mdr_rate</th><th>max_mdr_rate</th></tr>\n",
       "<tr><td>retail</td><td>228</td><td>0.0305</td><td>0.0201</td><td>0.035</td></tr>\n",
       "<tr><td>restaurant</td><td>184</td><td>0.0306</td><td>0.0251</td><td>0.0349</td></tr>\n",
       "<tr><td>fitness</td><td>143</td><td>0.0321</td><td>0.029</td><td>0.0349</td></tr>\n",
       "<tr><td>local_services</td><td>135</td><td>0.0319</td><td>0.0291</td><td>0.0349</td></tr>\n",
       "<tr><td>beauty</td><td>131</td><td>0.032</td><td>0.029</td><td>0.035</td></tr>\n",
       "<tr><td>healthcare</td><td>57</td><td>0.0261</td><td>0.0204</td><td>0.029</td></tr>\n",
       "<tr><td>automotive</td><td>51</td><td>0.027</td><td>0.025</td><td>0.029</td></tr>\n",
       "<tr><td>education</td><td>46</td><td>0.0271</td><td>0.0251</td><td>0.029</td></tr>\n",
       "<tr><td>technology</td><td>10</td><td>0.0223</td><td>0.0201</td><td>0.0246</td></tr>\n",
       "<tr><td>logistics</td><td>9</td><td>0.0224</td><td>0.0206</td><td>0.0235</td></tr>\n",
       "<tr><td>manufacturing</td><td>6</td><td>0.0215</td><td>0.0203</td><td>0.0243</td></tr>\n",
       "</table>\n",
       "</table>"
      ],
      "text/plain": [
       "<IPython.core.display.HTML object>"
      ]
     },
     "metadata": {},
     "output_type": "display_data"
    },
    {
     "data": {
      "text/html": [
       "<div class=\"jlse-output\" data-result-id=\"67c924fd212e712217bfe39a44707708d828adc37279a305bb4cf7e2c45c5297\" style=\"display:none;\"></div>"
      ],
      "text/plain": [
       "<IPython.core.display.HTML object>"
      ]
     },
     "metadata": {},
     "output_type": "display_data"
    }
   ],
   "source": [
    "%%sparksql\n",
    "-- Industry analysis\n",
    "SELECT \n",
    "    industry,\n",
    "    COUNT(*) as merchant_count,\n",
    "    ROUND(AVG(mdr_rate), 4) as avg_mdr_rate,\n",
    "    ROUND(MIN(mdr_rate), 4) as min_mdr_rate,\n",
    "    ROUND(MAX(mdr_rate), 4) as max_mdr_rate\n",
    "FROM spark_catalog.payments_bronze.merchants_raw \n",
    "GROUP BY industry \n",
    "ORDER BY merchant_count DESC\n"
   ]
  },
  {
   "cell_type": "code",
   "execution_count": 5,
   "metadata": {},
   "outputs": [
    {
     "name": "stdout",
     "output_type": "stream",
     "text": [
      "Execution time: 0.55 seconds\n"
     ]
    },
    {
     "data": {
      "application/vnd.jupyter.widget-view+json": {
       "model_id": "bd28ad5885bc4a989c3f8d6edb67c336",
       "version_major": 2,
       "version_minor": 0
      },
      "text/plain": [
       "SparkSchemaWidget(nodes=(Node(close_icon='angle-down', close_icon_style='danger', icon='project-diagram', icon…"
      ]
     },
     "metadata": {},
     "output_type": "display_data"
    },
    {
     "data": {
      "text/html": [
       "<a class=\"external\" href=\"http://4dfa796b94ef:4041\" target=\"_blank\" >Open Spark UI ⭐ LASAGNA-Iceberg-SQL</a>"
      ],
      "text/plain": [
       "<IPython.core.display.HTML object>"
      ]
     },
     "metadata": {},
     "output_type": "display_data"
    },
    {
     "data": {
      "text/html": [
       "<table><table border='1' class='mathjax_ignore'>\n",
       "<tr><th>state</th><th>merchant_count</th><th>avg_mdr_rate</th></tr>\n",
       "<tr><td>AZ</td><td>184</td><td>0.0302</td></tr>\n",
       "<tr><td>NY</td><td>172</td><td>0.0304</td></tr>\n",
       "<tr><td>PA</td><td>165</td><td>0.0306</td></tr>\n",
       "<tr><td>IL</td><td>164</td><td>0.0301</td></tr>\n",
       "<tr><td>CA</td><td>162</td><td>0.0305</td></tr>\n",
       "<tr><td>TX</td><td>153</td><td>0.0303</td></tr>\n",
       "</table>\n",
       "</table>"
      ],
      "text/plain": [
       "<IPython.core.display.HTML object>"
      ]
     },
     "metadata": {},
     "output_type": "display_data"
    },
    {
     "data": {
      "text/html": [
       "<div class=\"jlse-output\" data-result-id=\"19681542051f265f36cd498b6e63c9046fa746c451c11c1478b5b46b575f84dd\" style=\"display:none;\"></div>"
      ],
      "text/plain": [
       "<IPython.core.display.HTML object>"
      ]
     },
     "metadata": {},
     "output_type": "display_data"
    }
   ],
   "source": [
    "%%sparksql\n",
    "-- Geographic distribution\n",
    "SELECT \n",
    "    state,\n",
    "    COUNT(*) as merchant_count,\n",
    "    ROUND(AVG(mdr_rate), 4) as avg_mdr_rate\n",
    "FROM spark_catalog.payments_bronze.merchants_raw \n",
    "GROUP BY state \n",
    "ORDER BY merchant_count DESC \n",
    "LIMIT 10\n"
   ]
  },
  {
   "cell_type": "code",
   "execution_count": 9,
   "metadata": {},
   "outputs": [
    {
     "name": "stderr",
     "output_type": "stream",
     "text": [
      "                                                                                "
     ]
    },
    {
     "name": "stdout",
     "output_type": "stream",
     "text": [
      "Execution time: 2.78 seconds\n"
     ]
    },
    {
     "data": {
      "application/vnd.jupyter.widget-view+json": {
       "model_id": "864592895b1d421ca4144f3100b7ce48",
       "version_major": 2,
       "version_minor": 0
      },
      "text/plain": [
       "SparkSchemaWidget(nodes=(Node(close_icon='angle-down', close_icon_style='danger', icon='project-diagram', icon…"
      ]
     },
     "metadata": {},
     "output_type": "display_data"
    },
    {
     "data": {
      "text/html": [
       "<a class=\"external\" href=\"http://4dfa796b94ef:4041\" target=\"_blank\" >Open Spark UI ⭐ LASAGNA-Iceberg-SQL</a>"
      ],
      "text/plain": [
       "<IPython.core.display.HTML object>"
      ]
     },
     "metadata": {},
     "output_type": "display_data"
    },
    {
     "data": {
      "text/html": [
       "<table><table border='1' class='mathjax_ignore'>\n",
       "<tr><th>merchant_name</th><th>industry</th><th>transaction_count</th><th>total_amount</th></tr>\n",
       "<tr><td>Prime Mart 421</td><td>manufacturing</td><td>5100</td><td>2790039.209999999</td></tr>\n",
       "<tr><td>Prime Store 335</td><td>healthcare</td><td>4762</td><td>2627184.200000002</td></tr>\n",
       "<tr><td>Elite Mart 409</td><td>technology</td><td>4455</td><td>2460667.990000001</td></tr>\n",
       "<tr><td>Best Mart 741</td><td>retail</td><td>4343</td><td>2385646.709999998</td></tr>\n",
       "<tr><td>Mega Store 108</td><td>logistics</td><td>4337</td><td>2373022.8000000017</td></tr>\n",
       "<tr><td>Mega Mart 499</td><td>healthcare</td><td>4258</td><td>2314130.709999997</td></tr>\n",
       "<tr><td>Mega Plaza 88</td><td>healthcare</td><td>4225</td><td>2334957.5999999996</td></tr>\n",
       "<tr><td>Best Mart 984</td><td>healthcare</td><td>4217</td><td>2318210.6799999983</td></tr>\n",
       "<tr><td>Prime Store 101</td><td>logistics</td><td>4214</td><td>2324500.25</td></tr>\n",
       "<tr><td>Prime Store 269</td><td>healthcare</td><td>4179</td><td>2290924.51</td></tr>\n",
       "</table>\n",
       "</table>"
      ],
      "text/plain": [
       "<IPython.core.display.HTML object>"
      ]
     },
     "metadata": {},
     "output_type": "display_data"
    },
    {
     "data": {
      "text/html": [
       "<div class=\"jlse-output\" data-result-id=\"04a4739aab00a9334293a611893a5df82d5a75cdc8ff166ec0138be419632425\" style=\"display:none;\"></div>"
      ],
      "text/plain": [
       "<IPython.core.display.HTML object>"
      ]
     },
     "metadata": {},
     "output_type": "display_data"
    }
   ],
   "source": [
    "%%sparksql\n",
    "SELECT \n",
    "    merchant_name,\n",
    "    industry,\n",
    "    COUNT(*) as transaction_count,\n",
    "    SUM(payment_amount) as total_amount\n",
    "FROM spark_catalog.payments_bronze.merchants_raw m\n",
    "JOIN spark_catalog.payments_bronze.transactions_raw t ON m.merchant_id = t.merchant_id\n",
    "GROUP BY merchant_name, industry\n",
    "ORDER BY transaction_count DESC\n",
    "LIMIT 10"
   ]
  },
  {
   "cell_type": "markdown",
   "metadata": {},
   "source": [
    "## 5. Troubleshooting Guide\n",
    "\n",
    "### ✅ What Works:\n",
    "- **%sparksql** magic with full catalog path: `spark_catalog.payments_bronze.merchants_raw`\n",
    "- Interactive table outputs with automatic pagination\n",
    "- Complex SQL queries (JOINs, window functions, aggregations)\n",
    "- Cross-database queries\n",
    "\n",
    "### ❌ What Doesn't Work:\n",
    "- DataFrame API: `spark.read.format(\"iceberg\").load(\"s3a://...\")`\n",
    "- Direct file path access to Iceberg tables\n",
    "- Trino magic with Iceberg tables (catalog issues)\n",
    "\n",
    "### 🔧 Key Requirements:\n",
    "1. **Use full catalog path**: `spark_catalog.payments_bronze.merchants_raw`\n",
    "2. **Include Iceberg packages** in Spark session\n",
    "3. **Configure S3A** for MinIO access\n",
    "4. **Use %sparksql magic** instead of DataFrame API\n",
    "\n",
    "### 🚀 Performance Tips:\n",
    "- Use `LIMIT` for exploration queries\n",
    "- Select specific columns instead of `SELECT *`\n",
    "- Use proper WHERE clauses to filter data\n",
    "- Consider partitioning for large tables\n"
   ]
  }
 ],
 "metadata": {
  "kernelspec": {
   "display_name": "Python 3 (ipykernel)",
   "language": "python",
   "name": "python3"
  },
  "language_info": {
   "codemirror_mode": {
    "name": "ipython",
    "version": 3
   },
   "file_extension": ".py",
   "mimetype": "text/x-python",
   "name": "python",
   "nbconvert_exporter": "python",
   "pygments_lexer": "ipython3",
   "version": "3.10.12"
  }
 },
 "nbformat": 4,
 "nbformat_minor": 4
}
