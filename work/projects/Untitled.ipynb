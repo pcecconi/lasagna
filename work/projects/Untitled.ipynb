{
 "cells": [
  {
   "cell_type": "code",
   "execution_count": 10,
   "id": "8b3339fa-7503-47e8-99d7-06aafd7692d6",
   "metadata": {},
   "outputs": [
    {
     "name": "stdout",
     "output_type": "stream",
     "text": [
      "✅ Spark session with S3A configuration created!\n"
     ]
    },
    {
     "name": "stderr",
     "output_type": "stream",
     "text": [
      "25/10/01 12:18:33 WARN Utils: spark.executor.instances less than spark.dynamicAllocation.minExecutors is invalid, ignoring its setting, please update your configs.\n"
     ]
    }
   ],
   "source": [
    "from pyspark.sql import SparkSession\n",
    "\n",
    "# Create new session with S3A configuration  \n",
    "spark = SparkSession.builder \\\n",
    "    .appName(\"LASAGNA-Architecture-Test-S3A\") \\\n",
    "    .config(\"spark.jars.packages\", \"org.apache.iceberg:iceberg-spark-runtime-3.4_2.12:1.4.2,io.delta:delta-core_2.12:2.4.0\") \\\n",
    "    .config(\"spark.sql.extensions\", \"org.apache.iceberg.spark.extensions.IcebergSparkSessionExtensions,io.delta.sql.DeltaSparkSessionExtension\") \\\n",
    "    .config(\"spark.sql.catalog.iceberg\", \"org.apache.iceberg.spark.SparkCatalog\") \\\n",
    "    .config(\"spark.sql.catalog.iceberg.type\", \"hive\") \\\n",
    "    .config(\"spark.sql.catalog.iceberg.uri\", \"thrift://hive-metastore:9083\") \\\n",
    "    .config(\"spark.sql.catalog.spark_catalog\", \"org.apache.spark.sql.delta.catalog.DeltaCatalog\") \\\n",
    "    .config(\"spark.hadoop.fs.s3a.impl\", \"org.apache.hadoop.fs.s3a.S3AFileSystem\") \\\n",
    "    .config(\"spark.hadoop.fs.s3a.endpoint\", \"http://minio:9000\") \\\n",
    "    .config(\"spark.hadoop.fs.s3a.path.style.access\", \"true\") \\\n",
    "    .config(\"spark.hadoop.fs.s3a.connection.ssl.enabled\", \"false\") \\\n",
    "    .config(\"spark.hadoop.fs.s3a.access.key\", \"admin\") \\\n",
    "    .config(\"spark.hadoop.fs.s3a.secret.key\", \"password\") \\\n",
    "    .config(\"spark.hadoop.fs.s3a.aws.credentials.provider\", \"org.apache.hadoop.fs.s3a.SimpleAWSCredentialsProvider\") \\\n",
    "    .config(\"spark.hadoop.mapreduce.input.fileinputformat.input.dir.recursive\", \"true\") \\\n",
    "    .config(\"spark.sql.adaptive.enabled\", \"false\") \\\n",
    "    .config(\"spark.sql.adaptive.coalescePartitions.enabled\", \"false\") \\\n",
    "    .enableHiveSupport() \\\n",
    "    .getOrCreate()\n",
    "\n",
    "print(\"✅ Spark session with S3A configuration created!\")"
   ]
  },
  {
   "cell_type": "code",
   "execution_count": 11,
   "id": "9b98336b-cb6d-4351-83af-038b434b6901",
   "metadata": {},
   "outputs": [
    {
     "name": "stderr",
     "output_type": "stream",
     "text": [
      "[Stage 0:>                                                          (0 + 2) / 2]"
     ]
    },
    {
     "name": "stdout",
     "output_type": "stream",
     "text": [
      "Execution time: 0.05 seconds\n"
     ]
    },
    {
     "name": "stderr",
     "output_type": "stream",
     "text": [
      "                                                                                "
     ]
    },
    {
     "data": {
      "application/vnd.jupyter.widget-view+json": {
       "model_id": "9ca1ea24c2a742b0a2f26cb9649551f9",
       "version_major": 2,
       "version_minor": 0
      },
      "text/plain": [
       "SparkSchemaWidget(nodes=(Node(close_icon='angle-down', close_icon_style='danger', icon='project-diagram', icon…"
      ]
     },
     "metadata": {},
     "output_type": "display_data"
    },
    {
     "data": {
      "text/html": [
       "<a class=\"external\" href=\"http://829a791a2150:4040\" target=\"_blank\" >Open Spark UI ⭐ LASAGNA-Architecture-Test-S3A</a>"
      ],
      "text/plain": [
       "<IPython.core.display.HTML object>"
      ]
     },
     "metadata": {},
     "output_type": "display_data"
    },
    {
     "data": {
      "text/html": [
       "<table><table border='1' class='mathjax_ignore'>\n",
       "<tr><th>namespace</th><th>tableName</th><th>isTemporary</th></tr>\n",
       "<tr><td>payments_silver</td><td>dim_date</td><td>False</td></tr>\n",
       "<tr><td>payments_silver</td><td>dim_merchants</td><td>False</td></tr>\n",
       "<tr><td>payments_silver</td><td>fact_payments</td><td>False</td></tr>\n",
       "</table>\n",
       "</table>"
      ],
      "text/plain": [
       "<IPython.core.display.HTML object>"
      ]
     },
     "metadata": {},
     "output_type": "display_data"
    },
    {
     "data": {
      "text/html": [
       "<div class=\"jlse-output\" data-result-id=\"0f84c5798f9640ad3a91d4f67ced737e811b3bb7ec5d58df98dc0a8e72dac1af\" style=\"display:none;\"></div>"
      ],
      "text/plain": [
       "<IPython.core.display.HTML object>"
      ]
     },
     "metadata": {},
     "output_type": "display_data"
    }
   ],
   "source": [
    "%%sparksql\n",
    "show tables in iceberg.payments_silver"
   ]
  },
  {
   "cell_type": "code",
   "execution_count": 12,
   "id": "dc5e23a2-c5d0-4b2e-99eb-932dadca373f",
   "metadata": {},
   "outputs": [
    {
     "name": "stderr",
     "output_type": "stream",
     "text": [
      "                                                                                "
     ]
    },
    {
     "name": "stdout",
     "output_type": "stream",
     "text": [
      "Execution time: 1.87 seconds\n",
      "Only showing top 20 rows\n"
     ]
    },
    {
     "data": {
      "application/vnd.jupyter.widget-view+json": {
       "model_id": "b8ae1abbb73643ecb5c649b94e4ce972",
       "version_major": 2,
       "version_minor": 0
      },
      "text/plain": [
       "SparkSchemaWidget(nodes=(Node(close_icon='angle-down', close_icon_style='danger', icon='project-diagram', icon…"
      ]
     },
     "metadata": {},
     "output_type": "display_data"
    },
    {
     "data": {
      "text/html": [
       "<a class=\"external\" href=\"http://829a791a2150:4040\" target=\"_blank\" >Open Spark UI ⭐ LASAGNA-Architecture-Test-S3A</a>"
      ],
      "text/plain": [
       "<IPython.core.display.HTML object>"
      ]
     },
     "metadata": {},
     "output_type": "display_data"
    },
    {
     "data": {
      "text/html": [
       "<table><table border='1' class='mathjax_ignore'>\n",
       "<tr><th>merchant_sk</th><th>merchant_id</th><th>merchant_name</th><th>industry</th><th>address</th><th>city</th><th>state</th><th>zip_code</th><th>phone</th><th>email</th><th>mdr_rate</th><th>effective_date</th><th>expiry_date</th><th>is_current</th><th>created_at</th><th>updated_at</th><th>source_system</th></tr>\n",
       "<tr><td>-2089118039</td><td>M001051</td><td>Unknown Store M001051</td><td>unknown</td><td>Unknown Address</td><td>Unknown City</td><td>XX</td><td>00000</td><td>000-000-0000</td><td>M001051@unknown.com</td><td>0.025</td><td>2025-10-01</td><td>9999-12-31</td><td>True</td><td>2025-10-01 12:18:11.622328</td><td>2025-10-01 12:18:11.622328</td><td>silver_layer_missing</td></tr>\n",
       "<tr><td>1321249460</td><td>M001061</td><td>Unknown Store M001061</td><td>unknown</td><td>Unknown Address</td><td>Unknown City</td><td>XX</td><td>00000</td><td>000-000-0000</td><td>M001061@unknown.com</td><td>0.025</td><td>2025-10-01</td><td>9999-12-31</td><td>True</td><td>2025-10-01 12:18:11.622328</td><td>2025-10-01 12:18:11.622328</td><td>silver_layer_missing</td></tr>\n",
       "<tr><td>304219830</td><td>M001078</td><td>Unknown Store M001078</td><td>unknown</td><td>Unknown Address</td><td>Unknown City</td><td>XX</td><td>00000</td><td>000-000-0000</td><td>M001078@unknown.com</td><td>0.025</td><td>2025-10-01</td><td>9999-12-31</td><td>True</td><td>2025-10-01 12:18:11.622328</td><td>2025-10-01 12:18:11.622328</td><td>silver_layer_missing</td></tr>\n",
       "<tr><td>358443094</td><td>M001043</td><td>Unknown Store M001043</td><td>unknown</td><td>Unknown Address</td><td>Unknown City</td><td>XX</td><td>00000</td><td>000-000-0000</td><td>M001043@unknown.com</td><td>0.025</td><td>2025-10-01</td><td>9999-12-31</td><td>True</td><td>2025-10-01 12:18:11.622328</td><td>2025-10-01 12:18:11.622328</td><td>silver_layer_missing</td></tr>\n",
       "<tr><td>960264475</td><td>M001052</td><td>Unknown Store M001052</td><td>unknown</td><td>Unknown Address</td><td>Unknown City</td><td>XX</td><td>00000</td><td>000-000-0000</td><td>M001052@unknown.com</td><td>0.025</td><td>2025-10-01</td><td>9999-12-31</td><td>True</td><td>2025-10-01 12:18:11.622328</td><td>2025-10-01 12:18:11.622328</td><td>silver_layer_missing</td></tr>\n",
       "<tr><td>1772497082</td><td>M001026</td><td>Unknown Store M001026</td><td>unknown</td><td>Unknown Address</td><td>Unknown City</td><td>XX</td><td>00000</td><td>000-000-0000</td><td>M001026@unknown.com</td><td>0.025</td><td>2025-10-01</td><td>9999-12-31</td><td>True</td><td>2025-10-01 12:18:11.622328</td><td>2025-10-01 12:18:11.622328</td><td>silver_layer_missing</td></tr>\n",
       "<tr><td>887900340</td><td>M001014</td><td>Unknown Store M001014</td><td>unknown</td><td>Unknown Address</td><td>Unknown City</td><td>XX</td><td>00000</td><td>000-000-0000</td><td>M001014@unknown.com</td><td>0.025</td><td>2025-10-01</td><td>9999-12-31</td><td>True</td><td>2025-10-01 12:18:11.622328</td><td>2025-10-01 12:18:11.622328</td><td>silver_layer_missing</td></tr>\n",
       "<tr><td>1877667973</td><td>M001018</td><td>Unknown Store M001018</td><td>unknown</td><td>Unknown Address</td><td>Unknown City</td><td>XX</td><td>00000</td><td>000-000-0000</td><td>M001018@unknown.com</td><td>0.025</td><td>2025-10-01</td><td>9999-12-31</td><td>True</td><td>2025-10-01 12:18:11.622328</td><td>2025-10-01 12:18:11.622328</td><td>silver_layer_missing</td></tr>\n",
       "<tr><td>349311376</td><td>M001027</td><td>Unknown Store M001027</td><td>unknown</td><td>Unknown Address</td><td>Unknown City</td><td>XX</td><td>00000</td><td>000-000-0000</td><td>M001027@unknown.com</td><td>0.025</td><td>2025-10-01</td><td>9999-12-31</td><td>True</td><td>2025-10-01 12:18:11.622328</td><td>2025-10-01 12:18:11.622328</td><td>silver_layer_missing</td></tr>\n",
       "<tr><td>-1890617030</td><td>M001034</td><td>Unknown Store M001034</td><td>unknown</td><td>Unknown Address</td><td>Unknown City</td><td>XX</td><td>00000</td><td>000-000-0000</td><td>M001034@unknown.com</td><td>0.025</td><td>2025-10-01</td><td>9999-12-31</td><td>True</td><td>2025-10-01 12:18:11.622328</td><td>2025-10-01 12:18:11.622328</td><td>silver_layer_missing</td></tr>\n",
       "<tr><td>1623239186</td><td>M001037</td><td>Unknown Store M001037</td><td>unknown</td><td>Unknown Address</td><td>Unknown City</td><td>XX</td><td>00000</td><td>000-000-0000</td><td>M001037@unknown.com</td><td>0.025</td><td>2025-10-01</td><td>9999-12-31</td><td>True</td><td>2025-10-01 12:18:11.622328</td><td>2025-10-01 12:18:11.622328</td><td>silver_layer_missing</td></tr>\n",
       "<tr><td>417312452</td><td>M001001</td><td>Unknown Store M001001</td><td>unknown</td><td>Unknown Address</td><td>Unknown City</td><td>XX</td><td>00000</td><td>000-000-0000</td><td>M001001@unknown.com</td><td>0.025</td><td>2025-10-01</td><td>9999-12-31</td><td>True</td><td>2025-10-01 12:18:11.622328</td><td>2025-10-01 12:18:11.622328</td><td>silver_layer_missing</td></tr>\n",
       "<tr><td>-1564029782</td><td>M001068</td><td>Unknown Store M001068</td><td>unknown</td><td>Unknown Address</td><td>Unknown City</td><td>XX</td><td>00000</td><td>000-000-0000</td><td>M001068@unknown.com</td><td>0.025</td><td>2025-10-01</td><td>9999-12-31</td><td>True</td><td>2025-10-01 12:18:11.622328</td><td>2025-10-01 12:18:11.622328</td><td>silver_layer_missing</td></tr>\n",
       "<tr><td>-2053202760</td><td>M001069</td><td>Unknown Store M001069</td><td>unknown</td><td>Unknown Address</td><td>Unknown City</td><td>XX</td><td>00000</td><td>000-000-0000</td><td>M001069@unknown.com</td><td>0.025</td><td>2025-10-01</td><td>9999-12-31</td><td>True</td><td>2025-10-01 12:18:11.622328</td><td>2025-10-01 12:18:11.622328</td><td>silver_layer_missing</td></tr>\n",
       "<tr><td>-521596760</td><td>M001021</td><td>Unknown Store M001021</td><td>unknown</td><td>Unknown Address</td><td>Unknown City</td><td>XX</td><td>00000</td><td>000-000-0000</td><td>M001021@unknown.com</td><td>0.025</td><td>2025-10-01</td><td>9999-12-31</td><td>True</td><td>2025-10-01 12:18:11.622328</td><td>2025-10-01 12:18:11.622328</td><td>silver_layer_missing</td></tr>\n",
       "<tr><td>648640007</td><td>M001040</td><td>Unknown Store M001040</td><td>unknown</td><td>Unknown Address</td><td>Unknown City</td><td>XX</td><td>00000</td><td>000-000-0000</td><td>M001040@unknown.com</td><td>0.025</td><td>2025-10-01</td><td>9999-12-31</td><td>True</td><td>2025-10-01 12:18:11.622328</td><td>2025-10-01 12:18:11.622328</td><td>silver_layer_missing</td></tr>\n",
       "<tr><td>1835967503</td><td>M001060</td><td>Unknown Store M001060</td><td>unknown</td><td>Unknown Address</td><td>Unknown City</td><td>XX</td><td>00000</td><td>000-000-0000</td><td>M001060@unknown.com</td><td>0.025</td><td>2025-10-01</td><td>9999-12-31</td><td>True</td><td>2025-10-01 12:18:11.622328</td><td>2025-10-01 12:18:11.622328</td><td>silver_layer_missing</td></tr>\n",
       "<tr><td>-1487570976</td><td>M001062</td><td>Unknown Store M001062</td><td>unknown</td><td>Unknown Address</td><td>Unknown City</td><td>XX</td><td>00000</td><td>000-000-0000</td><td>M001062@unknown.com</td><td>0.025</td><td>2025-10-01</td><td>9999-12-31</td><td>True</td><td>2025-10-01 12:18:11.622328</td><td>2025-10-01 12:18:11.622328</td><td>silver_layer_missing</td></tr>\n",
       "<tr><td>-1922239314</td><td>M001074</td><td>Unknown Store M001074</td><td>unknown</td><td>Unknown Address</td><td>Unknown City</td><td>XX</td><td>00000</td><td>000-000-0000</td><td>M001074@unknown.com</td><td>0.025</td><td>2025-10-01</td><td>9999-12-31</td><td>True</td><td>2025-10-01 12:18:11.622328</td><td>2025-10-01 12:18:11.622328</td><td>silver_layer_missing</td></tr>\n",
       "<tr><td>-1828549493</td><td>M001076</td><td>Unknown Store M001076</td><td>unknown</td><td>Unknown Address</td><td>Unknown City</td><td>XX</td><td>00000</td><td>000-000-0000</td><td>M001076@unknown.com</td><td>0.025</td><td>2025-10-01</td><td>9999-12-31</td><td>True</td><td>2025-10-01 12:18:11.622328</td><td>2025-10-01 12:18:11.622328</td><td>silver_layer_missing</td></tr>\n",
       "</table>\n",
       "</table>"
      ],
      "text/plain": [
       "<IPython.core.display.HTML object>"
      ]
     },
     "metadata": {},
     "output_type": "display_data"
    },
    {
     "data": {
      "text/html": [
       "<div class=\"jlse-output\" data-result-id=\"83fa0746bf0f75a393fd0369fe54188278d6f9328bee444e79a212c226743b0c\" style=\"display:none;\"></div>"
      ],
      "text/plain": [
       "<IPython.core.display.HTML object>"
      ]
     },
     "metadata": {},
     "output_type": "display_data"
    }
   ],
   "source": [
    "%%sparksql\n",
    "select * from iceberg.payments_silver.dim_merchants"
   ]
  },
  {
   "cell_type": "code",
   "execution_count": 13,
   "id": "a16f8fae-16ce-4f07-8273-5975702fca06",
   "metadata": {},
   "outputs": [],
   "source": [
    "spark.stop()"
   ]
  },
  {
   "cell_type": "code",
   "execution_count": null,
   "id": "5d3633dd-9dfd-4a46-9798-904f134824a5",
   "metadata": {},
   "outputs": [],
   "source": []
  }
 ],
 "metadata": {
  "kernelspec": {
   "display_name": "Python 3 (ipykernel)",
   "language": "python",
   "name": "python3"
  },
  "language_info": {
   "codemirror_mode": {
    "name": "ipython",
    "version": 3
   },
   "file_extension": ".py",
   "mimetype": "text/x-python",
   "name": "python",
   "nbconvert_exporter": "python",
   "pygments_lexer": "ipython3",
   "version": "3.10.12"
  }
 },
 "nbformat": 4,
 "nbformat_minor": 5
}
